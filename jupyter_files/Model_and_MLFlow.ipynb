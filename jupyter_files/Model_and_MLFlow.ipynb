{
 "cells": [
  {
   "cell_type": "code",
   "execution_count": null,
   "id": "624e6442-e658-4d9b-af3c-065c35fbf410",
   "metadata": {},
   "outputs": [],
   "source": [
    "\n",
    "def get_tables(file_name):\n",
    "    '''\n",
    "    This function can be used to download the tables that lives in S3 that are proccessed by the ETL workflow\n",
    "    '''\n",
    "    fs = s3fs.S3FileSystem() \n",
    "    source = f\"s3://ift-bucket-jafet/historical/{file_name}.parquet\"\n",
    "    return pl.scan_parquet(source)\n",
    "\n"
   ]
  },
  {
   "cell_type": "code",
   "execution_count": null,
   "id": "91a04cb9-d38a-489a-bcfa-c1671ac8c360",
   "metadata": {},
   "outputs": [],
   "source": [
    "\n",
    "#creating the table that will use for the model \n",
    "\n",
    "tot_market_share = market_share.filter(pl.col('MARKET_SHARE')>=1.0).group_by('K_GRUPO').agg(pl.col('MARKET_SHARE').sum())\n",
    "maket_share_filtered_top8 = market_share.select('FECHA','K_GRUPO','MARKET_SHARE').filter(pl.col('MARKET_SHARE')>=1.0)\n",
    "lineas_filtered_with_top8 = lineas_filtered.filter(pl.col('K_GRUPO').is_in(tot_market_share.select('K_GRUPO')))\n",
    "traf_filtered_with_top8 = traf_filtered.filter(pl.col('K_GRUPO').is_in(tot_market_share.select('K_GRUPO')))\n",
    "\n",
    "first_join = maket_share_filtered_top8.join(traf_filtered_with_top8, on=['FECHA','K_GRUPO'], how='left')\n",
    "second_join = first_join.join(lineas_filtered_with_top8, on=['FECHA','K_GRUPO'], how='left')\n",
    "\n",
    "sj_g003 = second_join.filter(pl.col('K_GRUPO')=='G003')"
   ]
  },
  {
   "cell_type": "code",
   "execution_count": 21,
   "id": "19155b43-c981-4543-b8a6-92735b4a6128",
   "metadata": {},
   "outputs": [
    {
     "name": "stderr",
     "output_type": "stream",
     "text": [
      "2024/08/12 14:12:28 WARNING mlflow.sklearn: Failed to log training dataset information to MLflow Tracking. Reason: 'numpy.ndarray' object has no attribute 'toarray'\n",
      "2024/08/12 14:12:41 INFO mlflow.tracking._tracking_service.client: 🏃 View run bold-ray-819 at: http://localhost:5000/#/experiments/0/runs/d7342c8213dc40f59f308a48c5bccdf9.\n",
      "2024/08/12 14:12:41 INFO mlflow.tracking._tracking_service.client: 🧪 View experiment at: http://localhost:5000/#/experiments/0.\n"
     ]
    }
   ],
   "source": [
    "##This is only a preview of how to work with mlflow.\n",
    "\n",
    "from sklearn.linear_model import LinearRegression\n",
    "from sklearn.feature_extraction import DictVectorizer\n",
    "import numpy as np\n",
    "from sklearn.model_selection import train_test_split\n",
    "from sklearn.metrics import mean_absolute_error, mean_squared_error, r2_score\n",
    "import mlflow\n",
    "\n",
    "mlflow.set_tracking_uri(\"http://localhost:5000\")\n",
    "\n",
    "def eval_metrics(actual, pred):\n",
    "    rmse = np.sqrt(mean_squared_error(actual, pred))\n",
    "    mae = mean_absolute_error(actual, pred)\n",
    "    r2 = r2_score(actual, pred)\n",
    "    return rmse, mae, r2\n",
    "\n",
    "categorical = []\n",
    "numerical = ['L_NO_ESPECIFICADO_E','L_POSPAGOC_E','L_PREPAGO_E','L_TOTAL_E']\n",
    "target = ['MARKET_SHARE']\n",
    "\n",
    "df = sj_g003.select(numerical+categorical+target).with_columns(pl.col('L_NO_ESPECIFICADO_E').fill_null(0),pl.col('L_POSPAGOC_E').fill_null(0),pl.col('L_PREPAGO_E').fill_null(0),pl.col('L_TOTAL_E').fill_null(0))\n",
    "\n",
    "mlflow.sklearn.autolog()\n",
    "\n",
    "with mlflow.start_run():\n",
    "    #separacion train test 80-20\n",
    "    train,test = train_test_split(df)\n",
    "    train,test = train_test_split(df)\n",
    "    train_dicts = train.select(numerical+categorical).to_dicts()\n",
    "    test_dicts = test.select(numerical+categorical).to_dicts()\n",
    "    dv = DictVectorizer()\n",
    "    X_train = dv.fit_transform(train_dicts)\n",
    "    X_test = dv.fit_transform(test_dicts)\n",
    "    y_train = train.select(target).to_numpy()\n",
    "    y_test = test.select(target).to_numpy()\n",
    "    lr = LinearRegression()\n",
    "    lr.fit(X_train,y_train)\n",
    "    y_pred = lr.predict(X_test)\n",
    "    (rmse,mae,r2) = eval_metrics(y_test,y_pred)"
   ]
  }
 ],
 "metadata": {
  "kernelspec": {
   "display_name": "Python 3 (ipykernel)",
   "language": "python",
   "name": "python3"
  },
  "language_info": {
   "codemirror_mode": {
    "name": "ipython",
    "version": 3
   },
   "file_extension": ".py",
   "mimetype": "text/x-python",
   "name": "python",
   "nbconvert_exporter": "python",
   "pygments_lexer": "ipython3",
   "version": "3.12.3"
  }
 },
 "nbformat": 4,
 "nbformat_minor": 5
}
